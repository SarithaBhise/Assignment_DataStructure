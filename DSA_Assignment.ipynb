{
 "cells": [
  {
   "cell_type": "markdown",
   "id": "0e0564c3",
   "metadata": {},
   "source": [
    "### Write a program to find all pairs of an integer array whose sum is equal to a given number"
   ]
  },
  {
   "cell_type": "code",
   "execution_count": 14,
   "id": "b2c6902b",
   "metadata": {},
   "outputs": [
    {
     "name": "stdout",
     "output_type": "stream",
     "text": [
      "2  +  14  =  16\n",
      "5  +  11  =  16\n",
      "1  +  15  =  16\n"
     ]
    }
   ],
   "source": [
    "Array = [ 2,5,8,1,12,10,15,11,14 ]\n",
    "length = len(Array)\n",
    "sum = 16\n",
    "for i in range(0, length): \n",
    "    for j in range(i+1, length):\n",
    "        if((Array[i]+Array[j])==sum):\n",
    "            print(Array[i],\" + \",Array[j],\" = \",sum) "
   ]
  },
  {
   "cell_type": "markdown",
   "id": "5a862900",
   "metadata": {},
   "source": [
    "### Write a program to reverse an array in place? In place means you cannot create a new array. You have to update the original array."
   ]
  },
  {
   "cell_type": "code",
   "execution_count": 20,
   "id": "150fe2e8",
   "metadata": {},
   "outputs": [
    {
     "name": "stdout",
     "output_type": "stream",
     "text": [
      "Before reversal Array is : [20, 30, 40, 50, 60, 70]\n",
      "After reversing Array: [70, 60, 50, 40, 30, 20]\n"
     ]
    }
   ],
   "source": [
    "Array = [20,30,40,50,60,70]\n",
    "print(\"Before reversal Array is :\",Array)\n",
    "Array.reverse()\n",
    "print(\"After reversing Array:\",Array)"
   ]
  },
  {
   "cell_type": "markdown",
   "id": "908636ea",
   "metadata": {},
   "source": [
    "### Write a program to check if two strings are a rotation of each other?"
   ]
  },
  {
   "cell_type": "code",
   "execution_count": 23,
   "id": "4cad3459",
   "metadata": {},
   "outputs": [
    {
     "name": "stdout",
     "output_type": "stream",
     "text": [
      "Given Strings are rotations of each other.\n"
     ]
    }
   ],
   "source": [
    "def Rotation_of_string(str1, str2): \n",
    "    string = '' \n",
    "    if len(str1) != len(str2): \n",
    "        return False\n",
    "\n",
    "    string = str1 + str1 #Hello Hello\n",
    "   \n",
    "    if str2 in string: #kolkata ataklok\n",
    "        return True \n",
    "    else: \n",
    "        return False\n",
    "\n",
    "string1 = \"HELLO\"\n",
    "string2 = \"LOHEL\"\n",
    "  \n",
    "if Rotation_of_string(string1, string2): \n",
    "    print(\"Given Strings are rotations of each other.\")\n",
    "else: \n",
    "    print(\"Given Strings are not rotations of each other.\")"
   ]
  },
  {
   "cell_type": "markdown",
   "id": "a140f11b",
   "metadata": {},
   "source": [
    "### Write a program to print the first non-repeated character from a string"
   ]
  },
  {
   "cell_type": "code",
   "execution_count": 42,
   "id": "289d7f6a",
   "metadata": {},
   "outputs": [
    {
     "name": "stdout",
     "output_type": "stream",
     "text": [
      "d\n"
     ]
    }
   ],
   "source": [
    "def Char(string):\n",
    "    for i in string:\n",
    "        if string.index(i) == string.rindex(i):\n",
    "            return i\n",
    "    return \"_\"\n",
    "    \n",
    "print(Char(\"abbcacdeff\"))\n"
   ]
  },
  {
   "cell_type": "markdown",
   "id": "c18afabe",
   "metadata": {},
   "source": [
    "### Read about infix, prefix, and postfix expressions. Write a program to convert postfix to prefix expression."
   ]
  },
  {
   "cell_type": "code",
   "execution_count": 45,
   "id": "b2329550",
   "metadata": {},
   "outputs": [
    {
     "name": "stdout",
     "output_type": "stream",
     "text": [
      "Prefix :  /+AB-CDFF\n"
     ]
    }
   ],
   "source": [
    "def Operator(x):\n",
    " \n",
    "    if x == \"+\":\n",
    "        return True\n",
    "    if x == \"-\":\n",
    "        return True\n",
    "    if x == \"/\":\n",
    "        return True\n",
    "    if x == \"*\":\n",
    "        return True\n",
    "    return False\n",
    " \n",
    "def postToPre(post_exp):\n",
    " \n",
    "    s = []\n",
    "    length = len(post_exp)\n",
    "    for i in range(length):\n",
    "        if (Operator(post_exp[i])):\n",
    "            op1 = s[-1]\n",
    "            s.pop()\n",
    "            op2 = s[-1]\n",
    "            s.pop()\n",
    "            temp = post_exp[i] + op2 + op1\n",
    "            s.append(temp)\n",
    "        else:\n",
    "            s.append(post_exp[i])\n",
    "   \n",
    "    ans = \"\"\n",
    "    for i in s:\n",
    "        ans += i\n",
    "    return ans\n",
    " \n",
    "if __name__ == \"__main__\":\n",
    " \n",
    "    post_exp = \"AB+CD-/FF\"\n",
    "    print(\"Prefix : \", postToPre(post_exp))"
   ]
  },
  {
   "cell_type": "markdown",
   "id": "87023525",
   "metadata": {},
   "source": [
    "### program to convert prefix expression to infix expression"
   ]
  },
  {
   "cell_type": "code",
   "execution_count": 51,
   "id": "1ee39878",
   "metadata": {},
   "outputs": [
    {
     "name": "stdout",
     "output_type": "stream",
     "text": [
      "((A-(B/C))*((A/K)-L))\n"
     ]
    }
   ],
   "source": [
    "def prefix_Infix(prefix):\n",
    "    stack = []\n",
    "    i = len(prefix) - 1\n",
    "    while i >= 0:\n",
    "        if not Operator(prefix[i]):\n",
    "            stack.append(prefix[i])\n",
    "            i -= 1\n",
    "        else:\n",
    "            str = \"(\" + stack.pop() + prefix[i] + stack.pop() + \")\"\n",
    "            stack.append(str)\n",
    "            i -= 1\n",
    "        \n",
    "    return stack.pop()\n",
    "\n",
    "def Operator(c):\n",
    "    if c == \"*\" or c == \"+\" or c == \"-\" or c == \"/\" or c == \"^\" or c == \"(\" or c == \")\":\n",
    "        return True\n",
    "    else:\n",
    "        return False\n",
    "\n",
    "if __name__==\"__main__\":\n",
    "    str = \"*-A/BC-/AKL\"\n",
    "    print(prefix_Infix(str))"
   ]
  },
  {
   "cell_type": "markdown",
   "id": "7e3f397d",
   "metadata": {},
   "source": [
    "### program to check if all the brackets are closed in a given code snippet."
   ]
  },
  {
   "cell_type": "code",
   "execution_count": 55,
   "id": "7b0da049",
   "metadata": {},
   "outputs": [
    {
     "name": "stdout",
     "output_type": "stream",
     "text": [
      "The expression is Not Balanced\n"
     ]
    }
   ],
   "source": [
    "def Balanced_Brackets(expr):\n",
    "    stack = []\n",
    " \n",
    "    for char in expr:\n",
    "        if char in [\"(\", \"{\", \"[\"]:\n",
    "            stack.append(char)\n",
    "        else:\n",
    "            if not stack:\n",
    "                return False\n",
    "            current_char = stack.pop()\n",
    "            if current_char == '(':\n",
    "                if char != \")\":\n",
    "                    return False\n",
    "            if current_char == '{':\n",
    "                if char != \"}\":\n",
    "                    return False\n",
    "            if current_char == '[':\n",
    "                if char != \"]\":\n",
    "                    return False\n",
    " \n",
    "    if stack:\n",
    "        return False\n",
    "    return True\n",
    "\n",
    "if __name__ == \"__main__\":\n",
    "    expr = \"{()}[]}\"\n",
    "    \n",
    "    if Balanced_Brackets(expr):\n",
    "        print(\"The expression is Balanced\")\n",
    "    else:\n",
    "        print(\"The expression is Not Balanced\")"
   ]
  },
  {
   "cell_type": "markdown",
   "id": "10f09523",
   "metadata": {},
   "source": [
    "### program to reverse a stack"
   ]
  },
  {
   "cell_type": "code",
   "execution_count": 57,
   "id": "bb7a40ca",
   "metadata": {},
   "outputs": [
    {
     "name": "stdout",
     "output_type": "stream",
     "text": [
      "Original Stack\n",
      "5\n",
      "4\n",
      "3\n",
      "2\n",
      "1\n",
      "\n",
      "Stack after Reversing\n",
      "1\n",
      "2\n",
      "3\n",
      "4\n",
      "5\n"
     ]
    }
   ],
   "source": [
    "class Stack:\n",
    "    def __init__(self):\n",
    "        self.Elements = []\n",
    "        \n",
    "    def push(self, value):\n",
    "        self.Elements.append(value)\n",
    "       \n",
    "    def pop(self):\n",
    "        return self.Elements.pop()\n",
    "     \n",
    "    def empty(self):\n",
    "        return self.Elements == []\n",
    "    \n",
    "    def show(self):\n",
    "        for value in reversed(self.Elements):\n",
    "            print(value)\n",
    " \n",
    "\n",
    "def Bottom_Insert(s, value):\n",
    "    if s.empty():\n",
    "        s.push(value)\n",
    "    else:\n",
    "        popped = s.pop()\n",
    "        Bottom_Insert(s, value)\n",
    "        s.push(popped)\n",
    "\n",
    "def Reverse(s):\n",
    "    if s.empty():\n",
    "        pass\n",
    "    else:\n",
    "        popped = s.pop()\n",
    "        Reverse(s)\n",
    "        Bottom_Insert(s, popped)\n",
    " \n",
    " \n",
    "stk = Stack()\n",
    " \n",
    "stk.push(1)\n",
    "stk.push(2)\n",
    "stk.push(3)\n",
    "stk.push(4)\n",
    "stk.push(5)\n",
    " \n",
    "print(\"Original Stack\")\n",
    "stk.show()\n",
    " \n",
    "print(\"\\nStack after Reversing\")\n",
    "Reverse(stk)\n",
    "stk.show()"
   ]
  },
  {
   "cell_type": "markdown",
   "id": "87190813",
   "metadata": {},
   "source": [
    "### program to find the smallest number using a stack."
   ]
  },
  {
   "cell_type": "code",
   "execution_count": 61,
   "id": "8255d9b9",
   "metadata": {},
   "outputs": [
    {
     "name": "stdout",
     "output_type": "stream",
     "text": [
      "Smallest element is: 2\n"
     ]
    }
   ],
   "source": [
    "list = [14,28,46,10,2,89,76]\n",
    "\n",
    "list.sort()\n",
    "print(\"Smallest element is:\", list[0])"
   ]
  },
  {
   "cell_type": "code",
   "execution_count": null,
   "id": "4b0b07af",
   "metadata": {},
   "outputs": [],
   "source": []
  }
 ],
 "metadata": {
  "kernelspec": {
   "display_name": "Python 3 (ipykernel)",
   "language": "python",
   "name": "python3"
  },
  "language_info": {
   "codemirror_mode": {
    "name": "ipython",
    "version": 3
   },
   "file_extension": ".py",
   "mimetype": "text/x-python",
   "name": "python",
   "nbconvert_exporter": "python",
   "pygments_lexer": "ipython3",
   "version": "3.9.13"
  }
 },
 "nbformat": 4,
 "nbformat_minor": 5
}
